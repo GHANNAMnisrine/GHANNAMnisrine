{
 "cells": [
  {
   "cell_type": "markdown",
   "metadata": {
    "id": "17D4EihSitoc"
   },
   "source": [
    "# Hierarchical clustering from scratch avec Python"
   ]
  },
  {
   "cell_type": "markdown",
   "metadata": {
    "id": "F_6QT9vhiyng"
   },
   "source": [
    "## Importation des packages"
   ]
  },
  {
   "cell_type": "code",
   "execution_count": 1,
   "metadata": {
    "id": "x3A7yTTMrstE"
   },
   "outputs": [],
   "source": [
    "import numpy as np\n",
    "\n",
    "import matplotlib.pyplot as plt"
   ]
  },
  {
   "cell_type": "markdown",
   "metadata": {
    "id": "LyVy_PpUjHxh"
   },
   "source": [
    "## Création du jeu de données"
   ]
  },
  {
   "cell_type": "code",
   "execution_count": 2,
   "metadata": {
    "id": "edj6IzzzjLSL"
   },
   "outputs": [],
   "source": [
    "np.random.seed(123)\n",
    "\n",
    "mu, sigma = 2, 5 # mean and standard deviation\n",
    "x_train_1_1 = np.random.normal(mu, sigma, 100)\n",
    "mu, sigma = 5, 1 # mean and standard deviation\n",
    "x_train_1_2 = np.random.normal(mu, sigma, 100)\n",
    "\n",
    "mu, sigma = 5, 3 # mean and standard deviation\n",
    "x_train_2_1 = np.random.normal(mu, sigma, 100)\n",
    "mu, sigma = 20, 1 # mean and standard deviation\n",
    "x_train_2_2 = np.random.normal(mu, sigma, 100)\n",
    "\n",
    "mu, sigma = 22, 2.5 # mean and standard deviation\n",
    "x_train_3_1 = np.random.normal(mu, sigma, 100)\n",
    "mu, sigma = 10, 8 # mean and standard deviation\n",
    "x_train_3_2 = np.random.normal(mu, sigma, 100)\n",
    "\n",
    "x_train = np.stack([np.concatenate([x_train_1_1, x_train_2_1, x_train_3_1]),\n",
    "                    np.concatenate([x_train_1_2, x_train_2_2, x_train_3_2])], axis=1)\n",
    "\n",
    "np.random.shuffle(x_train)"
   ]
  },
  {
   "cell_type": "code",
   "execution_count": 3,
   "metadata": {
    "colab": {
     "base_uri": "https://localhost:8080/",
     "height": 430
    },
    "id": "aPXHoWHaRyVg",
    "outputId": "d21c0f6d-d3b4-42aa-c146-8a46fb97fdc1"
   },
   "outputs": [
    {
     "data": {
      "image/png": "[encoded data removed]",
      "text/plain": [
       "<Figure size 432x288 with 1 Axes>"
      ]
     },
     "metadata": {
      "needs_background": "light"
     },
     "output_type": "display_data"
    }
   ],
   "source": [
    "plt.scatter(x_train[:, 0], x_train[:, 1])\n",
    "plt.show()"
   ]
  },
  {
   "cell_type": "markdown",
   "metadata": {
    "id": "fs4AuhFsq6vX"
   },
   "source": [
    "## Implémentation du hierarchical clustering"
   ]
  },
  {
   "cell_type": "markdown",
   "metadata": {
    "id": "pRGM_DbprM9_"
   },
   "source": [
    "### Initialisation de la classe"
   ]
  },
  {
   "cell_type": "code",
   "execution_count": 4,
   "metadata": {
    "id": "OppDcNG6bN-n"
   },
   "outputs": [],
   "source": [
    "class HierarchicalClustering:\n",
    "\n",
    "  def __init__(self, k: int) -> None:\n",
    "    ''' Fonction d'initialisation '''\n",
    "    self.k = k"
   ]
  },
  {
   "cell_type": "code",
   "execution_count": 5,
   "metadata": {
    "colab": {
     "base_uri": "https://localhost:8080/"
    },
    "id": "-Mc93AQFczxi",
    "outputId": "90078245-e58f-4ec4-dc1c-fae4d9e76958"
   },
   "outputs": [
    {
     "name": "stdout",
     "output_type": "stream",
     "text": [
      "3\n"
     ]
    }
   ],
   "source": [
    "agglo = HierarchicalClustering(3)\n",
    "\n",
    "print(agglo.k)"
   ]
  },
  {
   "cell_type": "markdown",
   "metadata": {
    "id": "LZqBmbu_dBsl"
   },
   "source": [
    "### Calcul des distances : Distance Euclidienne"
   ]
  },
  {
   "cell_type": "markdown",
   "metadata": {
    "id": "tWHARZa0dBsl"
   },
   "source": [
    "$$\n",
    "d(a,b) = \\sqrt {\\sum ^n_{i=1} (a_i - b_i)^2}\n",
    "$$\n",
    "\n",
    "\n",
    "$a$ et $b$ sont deux points dans un plan euclidien de dimension $n$\n",
    "\n",
    "$a_i$ et $b_i$ sont deux vecteurs depuis l'origine jusqu'au point $a$, $b$."
   ]
  },
  {
   "cell_type": "code",
   "execution_count": 6,
   "metadata": {
    "id": "-RUMQ90sdBsm"
   },
   "outputs": [],
   "source": [
    "class HierarchicalClustering:\n",
    "\n",
    "  def __init__(self, k: int) -> None:\n",
    "    ''' Initialisation de la fonction '''\n",
    "    self.k = k\n",
    "\n",
    "  @staticmethod\n",
    "  def euclidean_distance(a: np.ndarray, b: np.ndarray) -> np.ndarray:\n",
    "    ''' Calcul de la distance euclidienne entre les deux vecteurs '''\n",
    "    return np.sqrt(np.sum(np.power(a-b, 2)))"
   ]
  },
  {
   "cell_type": "code",
   "execution_count": 7,
   "metadata": {
    "colab": {
     "base_uri": "https://localhost:8080/"
    },
    "id": "d3Y9GRpguMXJ",
    "outputId": "4da37f3c-14bd-4ed4-ad22-f87926509f33"
   },
   "outputs": [
    {
     "data": {
      "text/plain": [
       "()"
      ]
     },
     "execution_count": 7,
     "metadata": {},
     "output_type": "execute_result"
    }
   ],
   "source": [
    "np.random.seed(123)\n",
    "a = np.random.random((100, 2))\n",
    "b = np.random.random((100, 2))\n",
    "\n",
    "HierarchicalClustering.euclidean_distance(a, b).shape"
   ]
  },
  {
   "cell_type": "markdown",
   "metadata": {
    "id": "h5fB1Pr5eC0g"
   },
   "source": [
    "### Initialisation des clusters"
   ]
  },
  {
   "cell_type": "code",
   "execution_count": 8,
   "metadata": {
    "id": "23FkG_PdeJh3"
   },
   "outputs": [],
   "source": [
    "class HierarchicalClustering:\n",
    "\n",
    "  def __init__(self, k: int) -> None:\n",
    "    ''' Initialisation de la fonction '''\n",
    "    self.k = k\n",
    "\n",
    "  @staticmethod\n",
    "  def euclidean_distance(a: np.ndarray, b: np.ndarray) -> np.ndarray:\n",
    "    ''' Coalcul de la distance euclidienne entreles deux vecteurs'''\n",
    "    return np.sqrt(np.sum(np.power(a-b, 2)))\n",
    "\n",
    "  def init_clusters(self, x: np.ndarray) -> None:\n",
    "    ''' Initialiser toutes les observations du cluster'''\n",
    "    self.clusters = {id: np.expand_dims(value, axis=1) for id, value in enumerate(x)}"
   ]
  },
  {
   "cell_type": "code",
   "execution_count": 9,
   "metadata": {
    "colab": {
     "base_uri": "https://localhost:8080/"
    },
    "id": "VJK09I-ze9sU",
    "outputId": "d12c88d6-ca5f-4218-c234-5aeb744a97f2"
   },
   "outputs": [
    {
     "name": "stdout",
     "output_type": "stream",
     "text": [
      "(300, 2)\n",
      "Nombre de clusters : 300\n",
      "{0: array([[ 4.98107825],\n",
      "       [19.85598665]]), 1: array([[19.37445252],\n",
      "       [11.34977814]]), 2: array([[2.14841615],\n",
      "       [3.98034493]]), 3: array([[-1.99031368],\n",
      "       [ 3.12313134]]), 4: array([[ 5.37216769],\n",
      "       [20.44913561]]), 5: array([[21.75310049],\n",
      "       [14.39714077]]), 6: array([[ 7.08736196],\n",
      "       [19.59248741]]), 7: array([[18.84364064],\n",
      "       [ 9.23477804]]), 8: array([[ 6.24708362],\n",
      "       [20.24537941]]), 9: array([[11.6021063 ],\n",
      "       [19.34084869]]), 10: array([[-10.13339622],\n",
      "       [  5.17954948]]), 11: array([[ 0.44567607],\n",
      "       [18.69421413]]), 12: array([[ 2.99269212],\n",
      "       [21.37499063]]), 13: array([[-3.42815302],\n",
      "       [ 5.64205469]]), 14: array([[22.0510469 ],\n",
      "       [20.04371458]]), 15: array([[-3.48601523],\n",
      "       [ 5.07290724]]), 16: array([[3.41813662],\n",
      "       [4.64599989]]), 17: array([[ 3.20568401],\n",
      "       [19.17101117]]), 18: array([[ 2.36715924],\n",
      "       [19.78501696]]), 19: array([[ 7.68817494],\n",
      "       [19.75134415]]), 20: array([[23.87736149],\n",
      "       [ 8.66399781]]), 21: array([[-0.01683019],\n",
      "       [ 5.30738422]]), 22: array([[9.08649523],\n",
      "       [5.66565344]]), 23: array([[20.62276699],\n",
      "       [-1.60546513]]), 24: array([[24.66105672],\n",
      "       [12.74606385]]), 25: array([[ 3.24938985],\n",
      "       [20.67596339]]), 26: array([[24.32882403],\n",
      "       [ 2.11981134]]), 27: array([[22.7753063 ],\n",
      "       [15.05558627]]), 28: array([[ 5.83410114],\n",
      "       [19.30520178]]), 29: array([[1.2996564],\n",
      "       [5.4743473]]), 30: array([[ 2.95238554],\n",
      "       [20.10940316]]), 31: array([[ 5.08892878],\n",
      "       [18.11150762]]), 32: array([[ 4.71439238],\n",
      "       [20.34263798]]), 33: array([[ 4.38001309],\n",
      "       [21.3166056 ]]), 34: array([[10.62740164],\n",
      "       [19.70849329]]), 35: array([[10.58878276],\n",
      "       [19.67614022]]), 36: array([[ 2.9526472 ],\n",
      "       [19.09999143]]), 37: array([[-4.6313273 ],\n",
      "       [ 5.70447407]]), 38: array([[21.64487318],\n",
      "       [-0.18856189]]), 39: array([[ 6.78221077],\n",
      "       [21.3400987 ]]), 40: array([[24.46618505],\n",
      "       [20.64504621]]), 41: array([[ 2.25407879],\n",
      "       [20.75060992]]), 42: array([[ 7.45928183],\n",
      "       [20.24402694]]), 43: array([[18.72708671],\n",
      "       [17.43667576]]), 44: array([[6.89368003],\n",
      "       [4.76033122]]), 45: array([[3.69294525],\n",
      "       [5.5565487 ]]), 46: array([[ 1.35984566],\n",
      "       [17.74846501]]), 47: array([[ 7.26160634],\n",
      "       [21.86872646]]), 48: array([[2.01422958],\n",
      "       [4.4510449 ]]), 49: array([[7.87914522],\n",
      "       [5.74821562]]), 50: array([[0.04550103],\n",
      "       [6.26729865]]), 51: array([[ 8.65695759],\n",
      "       [20.41956768]]), 52: array([[ 4.17536736],\n",
      "       [18.99503285]]), 53: array([[-2.67916934],\n",
      "       [ 5.12074736]]), 54: array([[-6.63834747],\n",
      "       [ 5.13021495]]), 55: array([[23.28245712],\n",
      "       [ 4.95505287]]), 56: array([[25.73113847],\n",
      "       [ 8.13196805]]), 57: array([[ 9.83657913],\n",
      "       [19.86955531]]), 58: array([[1.13182159],\n",
      "       [5.32346885]]), 59: array([[22.40364091],\n",
      "       [22.70454308]]), 60: array([[-11.99294553],\n",
      "       [  3.89995689]]), 61: array([[-3.19394105],\n",
      "       [ 5.28372536]]), 62: array([[20.57260478],\n",
      "       [20.66552562]]), 63: array([[6.98672723],\n",
      "       [3.02211207]]), 64: array([[ 3.61643776],\n",
      "       [19.11717101]]), 65: array([[ 2.9911442 ],\n",
      "       [20.69077727]]), 66: array([[ 4.98161012],\n",
      "       [19.59858557]]), 67: array([[ 7.22805866],\n",
      "       [18.77726304]]), 68: array([[4.3421956 ],\n",
      "       [3.95100832]]), 69: array([[-1.19450998],\n",
      "       [ 5.50124899]]), 70: array([[ 1.02053664],\n",
      "       [19.41102945]]), 71: array([[22.35747507],\n",
      "       [22.02064725]]), 72: array([[ 5.85380909],\n",
      "       [19.0322556 ]]), 73: array([[ 7.10993035],\n",
      "       [20.76505485]]), 74: array([[ 6.90782812],\n",
      "       [21.74404109]]), 75: array([[21.41910651],\n",
      "       [10.27922051]]), 76: array([[ 4.26438997],\n",
      "       [19.62425009]]), 77: array([[21.97834883],\n",
      "       [20.08657015]]), 78: array([[-6.0298138 ],\n",
      "       [ 5.13997811]]), 79: array([[21.38094655],\n",
      "       [ 0.39965378]]), 80: array([[ 7.50517624],\n",
      "       [19.81170314]]), 81: array([[22.26015184],\n",
      "       [ 4.53788224]]), 82: array([[6.03618267],\n",
      "       [4.10157706]]), 83: array([[-0.14456314],\n",
      "       [ 3.13802429]]), 84: array([[13.96182633],\n",
      "       [ 5.4562709 ]]), 85: array([[1.36985207],\n",
      "       [4.38877466]]), 86: array([[-5.53147357],\n",
      "       [ 7.59830393]]), 87: array([[5.44111356],\n",
      "       [6.80597011]]), 88: array([[4.86902931],\n",
      "       [5.33276498]]), 89: array([[21.57100999],\n",
      "       [20.46554851]]), 90: array([[22.47260861],\n",
      "       [13.5246584 ]]), 91: array([[ 5.74990982],\n",
      "       [20.9378503 ]]), 92: array([[ 6.26053879],\n",
      "       [20.20692752]]), 93: array([[0.32494619],\n",
      "       [5.19701893]]), 94: array([[ 2.99957747],\n",
      "       [18.8813044 ]]), 95: array([[ 1.03819226],\n",
      "       [18.78773104]]), 96: array([[15.42140491],\n",
      "       [17.79305948]]), 97: array([[24.48451677],\n",
      "       [11.73117255]]), 98: array([[6.53552598],\n",
      "       [5.81234133]]), 99: array([[21.93269352],\n",
      "       [-1.1550009 ]]), 100: array([[ 7.0049506 ],\n",
      "       [21.16106836]]), 101: array([[ 7.06489079],\n",
      "       [20.61112355]]), 102: array([[7.34696335],\n",
      "       [4.85682403]]), 103: array([[ 0.74382226],\n",
      "       [19.57331023]]), 104: array([[26.46292203],\n",
      "       [ 9.98500247]]), 105: array([[20.67502784],\n",
      "       [12.43030345]]), 106: array([[-1.66230993],\n",
      "       [ 4.45107959]]), 107: array([[ 6.89146409],\n",
      "       [19.96631077]]), 108: array([[24.36469246],\n",
      "       [11.98383908]]), 109: array([[ 2.40370319],\n",
      "       [18.24459816]]), 110: array([[ 18.85791547],\n",
      "       [-12.30490306]]), 111: array([[7.88930969],\n",
      "       [4.87388223]]), 112: array([[-4.81735772],\n",
      "       [ 4.88914928]]), 113: array([[9.45366014],\n",
      "       [4.44789193]]), 114: array([[ 0.75175324],\n",
      "       [20.64021868]]), 115: array([[20.85893511],\n",
      "       [ 6.41286689]]), 116: array([[20.67521475],\n",
      "       [10.557126  ]]), 117: array([[-1.39443076],\n",
      "       [ 4.5723204 ]]), 118: array([[22.27613277],\n",
      "       [19.76455131]]), 119: array([[-2.30877448],\n",
      "       [ 4.43607607]]), 120: array([[9.45694813],\n",
      "       [4.26478304]]), 121: array([[24.45758349],\n",
      "       [23.72832258]]), 122: array([[22.81365907],\n",
      "       [ 8.9375906 ]]), 123: array([[21.18370588],\n",
      "       [19.264551  ]]), 124: array([[1.94084753],\n",
      "       [4.78791988]]), 125: array([[0.42620927],\n",
      "       [4.45135787]]), 126: array([[0.72190315],\n",
      "       [4.00267853]]), 127: array([[ 6.10885876],\n",
      "       [19.33035285]]), 128: array([[24.53575971],\n",
      "       [ 1.29193156]]), 129: array([[21.00344019],\n",
      "       [ 6.21975526]]), 130: array([[19.59186579],\n",
      "       [ 3.93097261]]), 131: array([[ 6.77211265],\n",
      "       [19.04241816]]), 132: array([[ 8.79387586],\n",
      "       [19.52087705]]), 133: array([[25.80041611],\n",
      "       [-1.3431559 ]]), 134: array([[-2.33370201],\n",
      "       [ 3.39459026]]), 135: array([[20.27862867],\n",
      "       [ 5.27740066]]), 136: array([[ 4.74043314],\n",
      "       [19.29565785]]), 137: array([[21.43921804],\n",
      "       [25.44680694]]), 138: array([[ 4.63565397],\n",
      "       [19.58624312]]), 139: array([[26.961456  ],\n",
      "       [15.39667865]]), 140: array([[ 2.07707645],\n",
      "       [19.64333694]]), 141: array([[20.50317058],\n",
      "       [10.04823462]]), 142: array([[24.12525721],\n",
      "       [ 8.09147985]]), 143: array([[6.63731216],\n",
      "       [5.76094939]]), 144: array([[-1.49938617],\n",
      "       [ 5.32168658]]), 145: array([[26.07383549],\n",
      "       [ 9.01049014]]), 146: array([[ 5.83605055],\n",
      "       [19.87356244]]), 147: array([[18.241354  ],\n",
      "       [30.47880185]]), 148: array([[-4.26940334],\n",
      "       [ 6.60869097]]), 149: array([[7.75102771],\n",
      "       [5.17719233]]), 150: array([[-4.06261566],\n",
      "       [ 4.02194229]]), 151: array([[ 4.25955267],\n",
      "       [19.48129615]]), 152: array([[-2.39768172],\n",
      "       [ 6.51886562]]), 153: array([[13.02965041],\n",
      "       [ 3.62905153]]), 154: array([[10.71856113],\n",
      "       [ 3.58811112]]), 155: array([[-0.17175638],\n",
      "       [ 5.27874086]]), 156: array([[ 6.73862485],\n",
      "       [21.17591077]]), 157: array([[-0.89300126],\n",
      "       [ 4.97537402]]), 158: array([[15.89231054],\n",
      "       [11.95012608]]), 159: array([[-2.15577492],\n",
      "       [ 4.92487941]]), 160: array([[7.15557229],\n",
      "       [1.76894499]]), 161: array([[25.62225903],\n",
      "       [11.81009318]]), 162: array([[19.29545219],\n",
      "       [10.66076336]]), 163: array([[23.41970017],\n",
      "       [12.2027349 ]]), 164: array([[-2.18758361],\n",
      "       [ 4.60838019]]), 165: array([[20.77256929],\n",
      "       [ 7.876435  ]]), 166: array([[6.45353196],\n",
      "       [5.55385617]]), 167: array([[ 6.30762731],\n",
      "       [18.10482441]]), 168: array([[10.25718269],\n",
      "       [ 5.03414213]]), 169: array([[20.13713195],\n",
      "       [13.30255009]]), 170: array([[27.62669008],\n",
      "       [14.70948444]]), 171: array([[20.54537448],\n",
      "       [17.79508963]]), 172: array([[22.96266526],\n",
      "       [14.04548681]]), 173: array([[26.24514748],\n",
      "       [ 4.19108778]]), 174: array([[-3.42951201],\n",
      "       [ 2.4429454 ]]), 175: array([[22.1467186],\n",
      "       [18.5452831]]), 176: array([[20.40576965],\n",
      "       [-4.10318188]]), 177: array([[17.90150758],\n",
      "       [10.90115338]]), 178: array([[24.57594833],\n",
      "       [-3.28380057]]), 179: array([[22.9571756 ],\n",
      "       [13.32899052]]), 180: array([[24.92613574],\n",
      "       [ 1.07968037]]), 181: array([[21.3578866 ],\n",
      "       [22.85277444]]), 182: array([[3.57135997],\n",
      "       [5.13402679]]), 183: array([[ 5.48163326],\n",
      "       [19.83157357]]), 184: array([[ 2.71611727],\n",
      "       [19.98639611]]), 185: array([[13.19071669],\n",
      "       [ 5.14330773]]), 186: array([[ 3.69750044],\n",
      "       [19.71737162]]), 187: array([[-6.85766552],\n",
      "       [ 4.24356279]]), 188: array([[8.32968129],\n",
      "       [5.42614664]]), 189: array([[22.65497299],\n",
      "       [-2.69765141]]), 190: array([[19.28807807],\n",
      "       [ 7.2162853 ]]), 191: array([[ 5.96773021],\n",
      "       [19.89708939]]), 192: array([[23.50043809],\n",
      "       [ 3.6632644 ]]), 193: array([[19.13190715],\n",
      "       [13.72616053]]), 194: array([[-4.47042662],\n",
      "       [ 5.25381648]]), 195: array([[ 7.97039868],\n",
      "       [19.01319611]]), 196: array([[ 3.9352735 ],\n",
      "       [19.65390997]]), 197: array([[ 4.75825033],\n",
      "       [19.60668915]]), 198: array([[4.0645608 ],\n",
      "       [6.54454445]]), 199: array([[-1.45748033],\n",
      "       [20.17975157]]), 200: array([[-0.2199098 ],\n",
      "       [ 6.01273905]]), 201: array([[23.68412233],\n",
      "       [10.75322308]]), 202: array([[23.53266932],\n",
      "       [16.53750624]]), 203: array([[5.97431334],\n",
      "       [4.80603613]]), 204: array([[19.93751987],\n",
      "       [11.86119727]]), 205: array([[2.99762037],\n",
      "       [4.72560343]]), 206: array([[10.30476244],\n",
      "       [ 6.39535293]]), 207: array([[ 7.86749707],\n",
      "       [19.9013153 ]]), 208: array([[ 6.09033669],\n",
      "       [21.71903468]]), 209: array([[-1.18875751],\n",
      "       [ 4.72976761]]), 210: array([[-3.42283956],\n",
      "       [ 4.73070651]]), 211: array([[ 4.04312903],\n",
      "       [20.08773046]]), 212: array([[ 8.09743915],\n",
      "       [20.14242559]]), 213: array([[ 5.01093546],\n",
      "       [20.68620069]]), 214: array([[15.90384859],\n",
      "       [25.43865947]]), 215: array([[ 2.40051439],\n",
      "       [20.37692011]]), 216: array([[18.54912169],\n",
      "       [-6.97839106]]), 217: array([[22.08985126],\n",
      "       [-3.61196876]]), 218: array([[22.31089658],\n",
      "       [14.80706007]]), 219: array([[ 5.206365  ],\n",
      "       [19.93760145]]), 220: array([[ 0.1986784 ],\n",
      "       [19.85463646]]), 221: array([[ 1.01276351],\n",
      "       [20.25146418]]), 222: array([[ 1.77570022],\n",
      "       [20.88899292]]), 223: array([[17.72752056],\n",
      "       [14.54803365]]), 224: array([[18.49252728],\n",
      "       [ 9.02606804]]), 225: array([[24.7835042 ],\n",
      "       [ 7.35097361]]), 226: array([[ 1.28794036],\n",
      "       [19.80738501]]), 227: array([[23.20468564],\n",
      "       [ 6.753253  ]]), 228: array([[-5.1434035 ],\n",
      "       [ 5.49974014]]), 229: array([[2.90517565],\n",
      "       [5.19958211]]), 230: array([[7.81102025],\n",
      "       [4.25918623]]), 231: array([[17.3240063 ],\n",
      "       [-1.78382087]]), 232: array([[22.77895376],\n",
      "       [17.30150349]]), 233: array([[2.2274504 ],\n",
      "       [6.52366378]]), 234: array([[ 0.87593609],\n",
      "       [19.65139249]]), 235: array([[7.19863545],\n",
      "       [6.47192937]]), 236: array([[-1.44434492],\n",
      "       [ 6.45958927]]), 237: array([[ 1.23299394],\n",
      "       [19.1823317 ]]), 238: array([[ 3.9150802 ],\n",
      "       [18.62027502]]), 239: array([[7.02026949],\n",
      "       [6.95941134]]), 240: array([[12.4355668 ],\n",
      "       [ 4.64517554]]), 241: array([[ 5.83898801],\n",
      "       [19.55222857]]), 242: array([[7.34657985],\n",
      "       [5.1679423 ]]), 243: array([[22.16451571],\n",
      "       [17.10555633]]), 244: array([[ 4.40266285],\n",
      "       [18.43074387]]), 245: array([[ 3.34418937],\n",
      "       [18.65364244]]), 246: array([[21.90167666],\n",
      "       [ 9.14660408]]), 247: array([[22.41489244],\n",
      "       [18.71626126]]), 248: array([[ 0.03890648],\n",
      "       [19.22741627]]), 249: array([[24.44203246],\n",
      "       [20.69963061]]), 250: array([[ 4.52226437],\n",
      "       [20.67349128]]), 251: array([[ 1.24643038],\n",
      "       [20.78982803]]), 252: array([[0.8345397 ],\n",
      "       [3.90497354]]), 253: array([[-8.61550175],\n",
      "       [ 5.40308596]]), 254: array([[ 5.87262316],\n",
      "       [19.48965713]]), 255: array([[20.35109978],\n",
      "       [ 7.40410207]]), 256: array([[10.77443091],\n",
      "       [ 4.46932544]]), 257: array([[ 0.60465133],\n",
      "       [18.95983712]]), 258: array([[17.62232413],\n",
      "       [ 2.07780249]]), 259: array([[ 5.34589617],\n",
      "       [22.05646734]]), 260: array([[ 3.938737  ],\n",
      "       [20.05929113]]), 261: array([[23.8213385 ],\n",
      "       [11.19947063]]), 262: array([[ 1.44701798],\n",
      "       [18.9924912 ]]), 263: array([[0.10411783],\n",
      "       [4.78205374]]), 264: array([[22.38572513],\n",
      "       [14.68614511]]), 265: array([[ 0.739361  ],\n",
      "       [20.36005073]]), 266: array([[ 3.17386759],\n",
      "       [20.13507767]]), 267: array([[ 4.41697182],\n",
      "       [20.5412313 ]]), 268: array([[-4.33676025],\n",
      "       [ 4.97003199]]), 269: array([[24.65553617],\n",
      "       [11.27798956]]), 270: array([[24.26076555],\n",
      "       [17.6870406 ]]), 271: array([[3.89700306],\n",
      "       [4.65873828]]), 272: array([[ 8.76000784],\n",
      "       [20.74481931]]), 273: array([[1.52645516],\n",
      "       [6.24286955]]), 274: array([[13.87587634],\n",
      "       [18.87166945]]), 275: array([[26.00476913],\n",
      "       [ 9.43581266]]), 276: array([[6.03654093],\n",
      "       [4.64106407]]), 277: array([[2.82220615],\n",
      "       [5.39158424]]), 278: array([[3.41489249],\n",
      "       [5.71226464]]), 279: array([[-0.07615725],\n",
      "       [19.068998  ]]), 280: array([[24.99996912],\n",
      "       [24.27485436]]), 281: array([[9.47822069],\n",
      "       [6.37725748]]), 282: array([[ 9.22510744],\n",
      "       [21.13115191]]), 283: array([[25.7924342 ],\n",
      "       [ 0.94687259]]), 284: array([[3.930932  ],\n",
      "       [2.97495424]]), 285: array([[25.83522572],\n",
      "       [16.01626935]]), 286: array([[-3.99150572],\n",
      "       [ 5.07922701]]), 287: array([[25.14680326],\n",
      "       [11.28234977]]), 288: array([[20.33535758],\n",
      "       [ 5.72442234]]), 289: array([[-1.86354357],\n",
      "       [ 5.020316  ]]), 290: array([[5.68684288],\n",
      "       [4.72421399]]), 291: array([[-0.77114719],\n",
      "       [18.22622865]]), 292: array([[18.73205453],\n",
      "       [11.5318586 ]]), 293: array([[ 7.86980579],\n",
      "       [20.52321844]]), 294: array([[12.93393044],\n",
      "       [ 4.66752472]]), 295: array([[ 6.73906934],\n",
      "       [20.68007153]]), 296: array([[8.27618687],\n",
      "       [5.09346083]]), 297: array([[22.32346381],\n",
      "       [ 9.44301521]]), 298: array([[20.53346012],\n",
      "       [15.49443525]]), 299: array([[-2.02683259],\n",
      "       [ 4.17656859]])}\n"
     ]
    }
   ],
   "source": [
    "agglo = HierarchicalClustering(3)\n",
    "\n",
    "agglo.init_clusters(x_train)\n",
    "\n",
    "print(x_train.shape)\n",
    "print(\"Nombre de clusters : \"+str(len(agglo.clusters)))\n",
    "print(agglo.clusters)"
   ]
  },
  {
   "cell_type": "markdown",
   "metadata": {
    "id": "efzSM26FeCx5"
   },
   "source": [
    "### Trouver le cluster le plus proche"
   ]
  },
  {
   "cell_type": "code",
   "execution_count": 11,
   "metadata": {
    "id": "LpVzkjZnf1Xn"
   },
   "outputs": [],
   "source": [
    "class HierarchicalClustering:\n",
    "\n",
    "  def __init__(self, k: int) -> None:\n",
    "    ''' Initialisation la fonction '''\n",
    "    self.k = k\n",
    "\n",
    "  @staticmethod\n",
    "  def euclidean_distance(a: np.ndarray, b: np.ndarray) -> np.ndarray:\n",
    "    ''' Calcul de la distance euclidienne entre les deux vectors '''\n",
    "    return np.sqrt(np.sum(np.power(a-b, 2)))\n",
    "\n",
    "  def init_clusters(self, x: np.ndarray) -> None:\n",
    "    ''' Initialiser toutes les observations du cluster'''\n",
    "    self.clusters = {id: np.expand_dims(value, axis=1) for id, value in enumerate(x)}\n",
    "\n",
    "  def find_closest_clusters(self):\n",
    "    ''' Trouver le plus proche cluster parmi tous les clusters'''\n",
    "\n",
    "    # Initialize the minimum distance at inf\n",
    "    min_dist = np.inf\n",
    "\n",
    "    # Initialize the closest clusters at None\n",
    "    closest_clusters = None\n",
    "\n",
    "    # Get the keys of all the clusters\n",
    "    clusters_ids = list(self.clusters.keys())\n",
    "\n",
    "    # Go through all the indexes of the dictionnary\n",
    "    for i, cluster_i in enumerate(clusters_ids):\n",
    "        # Go though all the indexes of the dictionnary except index i\n",
    "        for cluster_j in clusters_ids[i+1:]:\n",
    "\n",
    "            centroid_i = np.mean(self.clusters[cluster_i], axis=1)\n",
    "            centroid_j = np.mean(self.clusters[cluster_j], axis=1)\n",
    "\n",
    "            # Compute the distance between cluster_i and j\n",
    "            dist = HierarchicalClustering.euclidean_distance(centroid_i, centroid_j)\n",
    "\n",
    "            # If the distance is below the minimum distance\n",
    "            if dist < min_dist:\n",
    "                # Update the minimum distance\n",
    "                min_dist = dist\n",
    "                # Save the indexes of the closest clusters\n",
    "                closest_clusters = (cluster_i, cluster_j)\n",
    "\n",
    "    return closest_clusters"
   ]
  },
  {
   "cell_type": "code",
   "execution_count": 12,
   "metadata": {
    "colab": {
     "base_uri": "https://localhost:8080/"
    },
    "id": "I5PASJUtg_PG",
    "outputId": "fee6e8c9-73ca-4bbe-b098-e6a2ce165d57"
   },
   "outputs": [
    {
     "name": "stdout",
     "output_type": "stream",
     "text": [
      "(8, 92)\n",
      "[[ 6.24708362]\n",
      " [20.24537941]]\n",
      "[[ 6.26053879]\n",
      " [20.20692752]]\n"
     ]
    }
   ],
   "source": [
    "agglo = HierarchicalClustering(3)\n",
    "agglo.init_clusters(x_train)\n",
    "\n",
    "closest_clusters = agglo.find_closest_clusters()\n",
    "\n",
    "print(closest_clusters)\n",
    "print(agglo.clusters[closest_clusters[0]])\n",
    "print(agglo.clusters[closest_clusters[1]])"
   ]
  },
  {
   "cell_type": "markdown",
   "metadata": {
    "id": "I1kmok2LeCvQ"
   },
   "source": [
    "# Construire un nouveau cluster\n"
   ]
  },
  {
   "cell_type": "code",
   "execution_count": 13,
   "metadata": {
    "id": "UpDO3n9FlqeW"
   },
   "outputs": [],
   "source": [
    "class HierarchicalClustering:\n",
    "\n",
    "  def __init__(self, k: int) -> None:\n",
    "    ''' Initialisation fonction '''\n",
    "    self.k = k\n",
    "\n",
    "  @staticmethod\n",
    "  def euclidean_distance(a: np.ndarray, b: np.ndarray) -> np.ndarray:\n",
    "    ''' Calcul de la distance euclidienne entre les deux vectors '''\n",
    "    return np.sqrt(np.sum(np.power(a-b, 2)))\n",
    "\n",
    "  def init_clusters(self, x: np.ndarray) -> None:\n",
    "    '''Initialiser toutes les observations du cluster'''\n",
    "    self.clusters = {id: np.expand_dims(value, axis=1) for id, value in enumerate(x)}\n",
    "\n",
    "  def find_closest_clusters(self):\n",
    "    ''' Trouver le plus proche cluster parmi tous les clusters'''\n",
    "\n",
    "    # Initialiser la distance minimale à inf\n",
    "    min_dist = np.inf\n",
    "\n",
    "    # Initialiser les proches clusters à None\n",
    "    closest_clusters = None\n",
    "\n",
    "    # Obtenir les clés de tous les clusters\n",
    "    clusters_ids = list(self.clusters.keys())\n",
    "\n",
    "    # Parcourir tous les indices du dictionnaire\n",
    "    for i, cluster_i in enumerate(clusters_ids):\n",
    "        # Parcourir tous les indices du dictionnaire à l'exception de l'indice i\n",
    "        for cluster_j in clusters_ids[i+1:]:\n",
    "\n",
    "            centroid_i = np.mean(self.clusters[cluster_i], axis=1)\n",
    "            centroid_j = np.mean(self.clusters[cluster_j], axis=1)\n",
    "\n",
    "            # Calculer la distance entre cluster_i et j\n",
    "            dist = HierarchicalClustering.euclidean_distance(centroid_i, centroid_j)\n",
    "\n",
    "            # Si la disntance est inférieur à la distance minimale\n",
    "            if dist < min_dist:\n",
    "                # Mettre à jours la distance minimale\n",
    "                min_dist = dist\n",
    "                # Enregistrer l'indice du cluster le plus proche\n",
    "                closest_clusters = (cluster_i, cluster_j)\n",
    "\n",
    "    return closest_clusters\n",
    "\n",
    "  def merge_clusters(self, ci_id, cj_id):\n",
    "    ''' Merge the two closets clusters into one'''\n",
    "\n",
    "    # Concaténation des deux clusters\n",
    "    new_clusters = {0: np.concatenate([self.clusters[ci_id], self.clusters[cj_id]], axis=1)}\n",
    "\n",
    "    # Creation d'un nouveau dictionnaire\n",
    "    for cluster_id in self.clusters.keys():\n",
    "        if (cluster_id != ci_id) and (cluster_id != cj_id):\n",
    "          new_clusters[len(new_clusters.keys())] = self.clusters[cluster_id]\n",
    "\n",
    "    return new_clusters"
   ]
  },
  {
   "cell_type": "code",
   "execution_count": 14,
   "metadata": {
    "colab": {
     "base_uri": "https://localhost:8080/"
    },
    "id": "QwkUr-1LmhTU",
    "outputId": "c7b88e83-34f4-4cb2-eaad-f4145f34713b"
   },
   "outputs": [
    {
     "name": "stdout",
     "output_type": "stream",
     "text": [
      "299\n",
      "(2, 2)\n",
      "[[ 6.24708362  6.26053879]\n",
      " [20.24537941 20.20692752]]\n"
     ]
    }
   ],
   "source": [
    "agglo = HierarchicalClustering(3)\n",
    "agglo.init_clusters(x_train)\n",
    "\n",
    "closest_clusters = agglo.find_closest_clusters()\n",
    "clusters = agglo.merge_clusters(*closest_clusters)\n",
    "\n",
    "print(len(clusters))\n",
    "print(clusters[0].shape)\n",
    "print(clusters[0])"
   ]
  },
  {
   "cell_type": "markdown",
   "metadata": {
    "id": "agQ-Bl66lm4p"
   },
   "source": [
    "# Entraînement de l'algorithme"
   ]
  },
  {
   "cell_type": "code",
   "execution_count": 15,
   "metadata": {
    "id": "MXL3FkyKrc05"
   },
   "outputs": [],
   "source": [
    "class HierarchicalClustering:\n",
    "\n",
    "    def __init__(self, k: int) -> None:\n",
    "        ''' Fonction d'initialisation '''\n",
    "        self.k = k\n",
    "\n",
    "    @staticmethod\n",
    "    def euclidean_distance(a: np.ndarray, b: np.ndarray) -> np.ndarray:\n",
    "        ''' Calculer la distance euclidienne entre deux vecteurs '''\n",
    "        return np.sqrt(np.sum(np.power(a - b, 2)))\n",
    "\n",
    "    def init_clusters(self, x: np.ndarray) -> None:\n",
    "        ''' Initialiser chaque observation comme un cluster '''\n",
    "        self.clusters = {id: np.expand_dims(value, axis=1) for id, value in enumerate(x)}\n",
    "\n",
    "    def find_closest_clusters(self):\n",
    "        ''' Trouver les clusters les plus proches parmi tous les clusters '''\n",
    "\n",
    "        # Initialiser la distance minimale à l'infini\n",
    "        min_dist = np.inf\n",
    "\n",
    "        # Initialiser les clusters les plus proches à None\n",
    "        closest_clusters = None\n",
    "\n",
    "        # Obtenir les clés de tous les clusters\n",
    "        clusters_ids = list(self.clusters.keys())\n",
    "\n",
    "        # Parcourir tous les indices du dictionnaire\n",
    "        for i, cluster_i in enumerate(clusters_ids):\n",
    "            # Parcourir tous les indices du dictionnaire sauf l'index i\n",
    "            for cluster_j in clusters_ids[i+1:]:\n",
    "\n",
    "                centroid_i = np.mean(self.clusters[cluster_i], axis=1)\n",
    "                centroid_j = np.mean(self.clusters[cluster_j], axis=1)\n",
    "\n",
    "                # Calculer la distance entre les clusters i et j\n",
    "                dist = HierarchicalClustering.euclidean_distance(centroid_i, centroid_j)\n",
    "\n",
    "                # Si la distance est inférieure à la distance minimale\n",
    "                if dist < min_dist:\n",
    "                    # Mettre à jour la distance minimale\n",
    "                    min_dist = dist\n",
    "                    # Enregistrer les indices des clusters les plus proches\n",
    "                    closest_clusters = (cluster_i, cluster_j)\n",
    "\n",
    "        return closest_clusters\n",
    "\n",
    "    def merge_clusters(self, ci_id, cj_id):\n",
    "        ''' Fusionner les deux clusters les plus proches en un seul '''\n",
    "\n",
    "        # Concaténer les deux clusters\n",
    "        new_clusters = {0: np.concatenate([self.clusters[ci_id], self.clusters[cj_id]], axis=1)}\n",
    "\n",
    "        # Créer un nouveau dictionnaire\n",
    "        for cluster_id in self.clusters.keys():\n",
    "            if (cluster_id != ci_id) and (cluster_id != cj_id):\n",
    "                new_clusters[len(new_clusters.keys())] = self.clusters[cluster_id]\n",
    "\n",
    "        return new_clusters\n",
    "\n",
    "    def fit(self, x_train: np.ndarray) -> None:\n",
    "        ''' Trouver les meilleurs k clusters à partir du jeu de données d'entraînement '''\n",
    "        # Initialisation des clusters\n",
    "        self.init_clusters(x_train)\n",
    "\n",
    "        # Tant que le modèle contient plus de clusters que souhaité, l'algorithme continue de les réduire\n",
    "        while len(self.clusters.keys()) > self.k:\n",
    "            # Trouver les clusters les plus proches\n",
    "            closest_clusters = self.find_closest_clusters()\n",
    "            # Fusionner les deux clusters les plus proches\n",
    "            self.clusters = self.merge_clusters(*closest_clusters)"
   ]
  },
  {
   "cell_type": "code",
   "execution_count": 16,
   "metadata": {
    "id": "Bd_4PZlOrjwM"
   },
   "outputs": [],
   "source": [
    "agglo = HierarchicalClustering(3)\n",
    "\n",
    "agglo.fit(x_train)"
   ]
  },
  {
   "cell_type": "markdown",
   "metadata": {
    "id": "ru8HMwx0vrOM"
   },
   "source": [
    "# Visualisation des clusters"
   ]
  },
  {
   "cell_type": "code",
   "execution_count": 17,
   "metadata": {
    "id": "vY8XANbEvyAN"
   },
   "outputs": [],
   "source": [
    "class HierarchicalClustering:\n",
    "\n",
    "    def __init__(self, k: int) -> None:\n",
    "        ''' Fonction d'initialisation '''\n",
    "        self.k = k\n",
    "\n",
    "    @staticmethod\n",
    "    def euclidean_distance(a: np.ndarray, b: np.ndarray) -> np.ndarray:\n",
    "        ''' Calculer la distance euclidienne entre deux vecteurs '''\n",
    "        return np.sqrt(np.sum(np.power(a - b, 2)))\n",
    "\n",
    "    def init_clusters(self, x: np.ndarray) -> None:\n",
    "        ''' Initialiser chaque observation comme un cluster '''\n",
    "        self.clusters = {id: np.expand_dims(value, axis=1) for id, value in enumerate(x)}\n",
    "\n",
    "    def find_closest_clusters(self):\n",
    "        ''' Trouver les clusters les plus proches parmi tous les clusters '''\n",
    "        # Initialiser la distance minimale à l'infini\n",
    "        min_dist = np.inf\n",
    "        # Initialiser les clusters les plus proches à None\n",
    "        closest_clusters = None\n",
    "        # Obtenir les clés de tous les clusters\n",
    "        clusters_ids = list(self.clusters.keys())\n",
    "        # Parcourir tous les indices du dictionnaire\n",
    "        for i, cluster_i in enumerate(clusters_ids):\n",
    "            # Parcourir tous les indices du dictionnaire sauf l'index i\n",
    "            for cluster_j in clusters_ids[i+1:]:\n",
    "                centroid_i = np.mean(self.clusters[cluster_i], axis=1)\n",
    "                centroid_j = np.mean(self.clusters[cluster_j], axis=1)\n",
    "                # Calculer la distance entre les clusters i et j\n",
    "                dist = HierarchicalClustering.euclidean_distance(centroid_i, centroid_j)\n",
    "                # Si la distance est inférieure à la distance minimale\n",
    "                if dist < min_dist:\n",
    "                    # Mettre à jour la distance minimale\n",
    "                    min_dist = dist\n",
    "                    # Enregistrer les indices des clusters les plus proches\n",
    "                    closest_clusters = (cluster_i, cluster_j)\n",
    "        return closest_clusters\n",
    "\n",
    "    def merge_clusters(self, ci_id, cj_id):\n",
    "        ''' Fusionner les deux clusters les plus proches en un seul '''\n",
    "        # Concaténer les deux clusters\n",
    "        new_clusters = {0: np.concatenate([self.clusters[ci_id], self.clusters[cj_id]], axis=1)}\n",
    "        # Créer un nouveau dictionnaire\n",
    "        for cluster_id in self.clusters.keys():\n",
    "            if (cluster_id != ci_id) and (cluster_id != cj_id):\n",
    "                new_clusters[len(new_clusters.keys())] = self.clusters[cluster_id]\n",
    "        return new_clusters\n",
    "\n",
    "    def plot_dendrogram(self):\n",
    "        ''' Afficher le dendrogramme '''\n",
    "        # Calculer la matrice de liaison (linkage matrix)\n",
    "        linkage_matrix = linkage(np.concatenate(list(self.clusters.values()), axis=1).T, method='ward')\n",
    "        # Afficher le dendrogramme\n",
    "        dendrogram(linkage_matrix)\n",
    "        plt.title('Dendrogramme')\n",
    "        plt.xlabel('Index du point')\n",
    "        plt.ylabel('Distance')\n",
    "        plt.show()\n",
    "\n",
    "    def fit(self, x_train: np.ndarray) -> None:\n",
    "        ''' Trouver les meilleurs k clusters à partir du jeu de données d'entraînement '''\n",
    "        # Initialisation des clusters\n",
    "        self.init_clusters(x_train)\n",
    "        # Tant que le modèle contient plus de clusters que souhaité, l'algorithme continue de les réduire\n",
    "        while len(self.clusters.keys()) > self.k:\n",
    "            # Trouver les clusters les plus proches\n",
    "            closest_clusters = self.find_closest_clusters()\n",
    "            # Fusionner les deux clusters les plus proches\n",
    "            self.clusters = self.merge_clusters(*closest_clusters)\n",
    "\n",
    "    def plot_model(self):\n",
    "        ''' Afficher chaque cluster avec des couleurs différentes '''\n",
    "        for i in range(len(self.clusters)):\n",
    "            plt.scatter(self.clusters[i][0], self.clusters[i][1])\n",
    "        plt.show()\n",
    "\n",
    "    def plot_silhouette(self, x_train: np.ndarray) -> None:\n",
    "        ''' Afficher le graphique de silhouette '''\n",
    "        # Calculer la matrice de liaison (linkage matrix)\n",
    "        linkage_matrix = linkage(np.concatenate(list(self.clusters.values()), axis=1).T, method='ward')\n",
    "        # Obtenir les étiquettes des clusters\n",
    "        labels = fcluster(linkage_matrix, self.k, criterion='maxclust')\n",
    "        # Calculer le coefficient de silhouette moyen\n",
    "        silhouette_avg = silhouette_score(x_train, labels)\n",
    "        # Calculer le coefficient de silhouette pour chaque point\n",
    "        silhouette_values = silhouette_samples(x_train, labels)\n",
    "\n",
    "        # Tracer le coefficient de silhouette\n",
    "        plt.figure(figsize=(8, 6))\n",
    "        y_lower = 10\n",
    "        for i in range(self.k):\n",
    "            cluster_silhouette_values = silhouette_values[labels == i + 1]\n",
    "            cluster_silhouette_values.sort()\n",
    "            size_cluster_i = cluster_silhouette_values.shape[0]\n",
    "            y_upper = y_lower + size_cluster_i\n",
    "\n",
    "            plt.fill_betweenx(np.arange(y_lower, y_upper),\n",
    "                              0, cluster_silhouette_values,\n",
    "                              alpha=0.7, label=f'Cluster {i + 1}')\n",
    "            plt.text(-0.05, y_lower + 0.5 * size_cluster_i, str(i + 1))\n",
    "            y_lower = y_upper + 10\n",
    "\n",
    "        plt.axvline(x=silhouette_avg, color=\"red\", linestyle=\"--\", linewidth=2, label='Moyenne')\n",
    "        plt.yticks([])\n",
    "        plt.legend()\n",
    "        plt.title('Graphique de Silhouette')\n",
    "        plt.xlabel('Coefficient de Silhouette')\n",
    "        plt.ylabel('Cluster')\n",
    "        plt.show()"
   ]
  },
  {
   "cell_type": "code",
   "execution_count": 18,
   "metadata": {
    "colab": {
     "base_uri": "https://localhost:8080/",
     "height": 430
    },
    "id": "Ee2-tXULvbyM",
    "outputId": "ad2f3ffe-a290-4e87-a204-9cc46c0d2efb"
   },
   "outputs": [
    {
     "data": {
      "image/png": "[encoded data removed]",
      "text/plain": [
       "<Figure size 432x288 with 1 Axes>"
      ]
     },
     "metadata": {
      "needs_background": "light"
     },
     "output_type": "display_data"
    }
   ],
   "source": [
    "agglo = HierarchicalClustering(3)\n",
    "agglo.fit(x_train)\n",
    "agglo.plot_model()"
   ]
  },
  {
   "cell_type": "code",
   "execution_count": 29,
   "metadata": {
    "id": "SjL-_mUY1cr3"
   },
   "outputs": [],
   "source": [
    "from scipy.cluster.hierarchy import dendrogram, linkage\n",
    "from scipy.cluster.hierarchy import fcluster\n",
    "from sklearn.metrics import silhouette_score, silhouette_samples\n"
   ]
  },
  {
   "cell_type": "code",
   "execution_count": 27,
   "metadata": {
    "colab": {
     "base_uri": "https://localhost:8080/",
     "height": 471
    },
    "id": "AlGoav513v7u",
    "outputId": "a7e28b77-06ca-46de-e49c-fc33f10cf6e8"
   },
   "outputs": [
    {
     "data": {
      "image/png": "[encoded data removed]",
      "text/plain": [
       "<Figure size 432x288 with 1 Axes>"
      ]
     },
     "metadata": {
      "needs_background": "light"
     },
     "output_type": "display_data"
    }
   ],
   "source": [
    "agglo.plot_dendrogram()"
   ]
  },
  {
   "cell_type": "code",
   "execution_count": 30,
   "metadata": {},
   "outputs": [
    {
     "data": {
      "image/png": "[encoded data removed]",
      "text/plain": [
       "<Figure size 576x432 with 1 Axes>"
      ]
     },
     "metadata": {
      "needs_background": "light"
     },
     "output_type": "display_data"
    }
   ],
   "source": [
    "agglo.plot_silhouette(x_train)"
   ]
  }
 ],
 "metadata": {
  "colab": {
   "provenance": []
  },
  "kernelspec": {
   "display_name": "Python 3 (ipykernel)",
   "language": "python",
   "name": "python3"
  },
  "language_info": {
   "codemirror_mode": {
    "name": "ipython",
    "version": 3
   },
   "file_extension": ".py",
   "mimetype": "text/x-python",
   "name": "python",
   "nbconvert_exporter": "python",
   "pygments_lexer": "ipython3",
   "version": "3.9.7"
  }
 },
 "nbformat": 4,
 "nbformat_minor": 1
}
