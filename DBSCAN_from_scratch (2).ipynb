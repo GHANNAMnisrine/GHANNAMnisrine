{
 "cells": [
  {
   "cell_type": "markdown",
   "metadata": {
    "id": "17D4EihSitoc"
   },
   "source": [
    "# Hierarchical clustering from scratch avec Python"
   ]
  },
  {
   "cell_type": "markdown",
   "metadata": {
    "id": "F_6QT9vhiyng"
   },
   "source": [
    "## Importation des packages"
   ]
  },
  {
   "cell_type": "code",
   "execution_count": 1,
   "metadata": {
    "id": "x3A7yTTMrstE"
   },
   "outputs": [],
   "source": [
    "import numpy as np\n",
    "from collections import Counter\n",
    "import random\n",
    "\n",
    "import matplotlib.pyplot as plt\n",
    "\n",
    "from sklearn.metrics import accuracy_score\n",
    "from sklearn.metrics import r2_score\n",
    "\n",
    "from matplotlib.colors import LogNorm"
   ]
  },
  {
   "cell_type": "markdown",
   "metadata": {
    "id": "LyVy_PpUjHxh"
   },
   "source": [
    "## Création du jeu de données"
   ]
  },
  {
   "cell_type": "code",
   "execution_count": 2,
   "metadata": {
    "id": "edj6IzzzjLSL"
   },
   "outputs": [],
   "source": [
    "np.random.seed(123)\n",
    "\n",
    "mu, sigma = 2, 5 # mean and standard deviation\n",
    "x_train_1_1 = np.random.normal(mu, sigma, 100)\n",
    "mu, sigma = 5, 1 # mean and standard deviation\n",
    "x_train_1_2 = np.random.normal(mu, sigma, 100)\n",
    "\n",
    "mu, sigma = 5, 3 # mean and standard deviation\n",
    "x_train_2_1 = np.random.normal(mu, sigma, 100)\n",
    "mu, sigma = 20, 1 # mean and standard deviation\n",
    "x_train_2_2 = np.random.normal(mu, sigma, 100)\n",
    "\n",
    "mu, sigma = 22, 2 # mean and standard deviation\n",
    "x_train_3_1 = np.random.normal(mu, sigma, 100)\n",
    "mu, sigma = 10, 4 # mean and standard deviation\n",
    "x_train_3_2 = np.random.normal(mu, sigma, 100)\n",
    "\n",
    "x_train = np.stack([np.concatenate([x_train_1_1, x_train_2_1, x_train_3_1]),\n",
    "                    np.concatenate([x_train_1_2, x_train_2_2, x_train_3_2])], axis=1)\n",
    "\n",
    "np.random.shuffle(x_train)"
   ]
  },
  {
   "cell_type": "code",
   "execution_count": 3,
   "metadata": {
    "colab": {
     "base_uri": "https://localhost:8080/",
     "height": 430
    },
    "id": "aPXHoWHaRyVg",
    "outputId": "2726c3dc-8a77-45eb-a59d-1db5f7753824"
   },
   "outputs": [
    {
     "data": {
      "image/png": "[encoded data removed]",
      "text/plain": [
       "<Figure size 432x288 with 1 Axes>"
      ]
     },
     "metadata": {
      "needs_background": "light"
     },
     "output_type": "display_data"
    }
   ],
   "source": [
    "plt.scatter(x_train[:, 0], x_train[:, 1])\n",
    "plt.show()"
   ]
  },
  {
   "cell_type": "markdown",
   "metadata": {
    "id": "fNnP7hbViAKb"
   },
   "source": [
    "## Implémentation du hierarchical clustering\n",
    "\n",
    "### Initialisation de la classe"
   ]
  },
  {
   "cell_type": "code",
   "execution_count": 4,
   "metadata": {
    "id": "iKwgIgd8h_py"
   },
   "outputs": [],
   "source": [
    "class DBSCAN:\n",
    "\n",
    "  def __init__(self, epsilon:float, min_points:int)->None:\n",
    "    \"\"\"This function initialize the class with all the information we need to train a DBSCNA algorithm\"\"\"\n",
    "\n",
    "    self.epsilon = epsilon\n",
    "    self.min_points = min_points"
   ]
  },
  {
   "cell_type": "code",
   "execution_count": 5,
   "metadata": {
    "colab": {
     "base_uri": "https://localhost:8080/"
    },
    "id": "x-91thoWh_se",
    "outputId": "862293d0-782a-4c41-d15d-1c8fd6556a3e"
   },
   "outputs": [
    {
     "name": "stdout",
     "output_type": "stream",
     "text": [
      "3\n",
      "5\n"
     ]
    }
   ],
   "source": [
    "dbs = DBSCAN(3, 5)\n",
    "\n",
    "print(dbs.epsilon)\n",
    "print(dbs.min_points)"
   ]
  },
  {
   "cell_type": "markdown",
   "metadata": {
    "id": "w3jxKcbOjxsL"
   },
   "source": [
    "### Calcul des distances"
   ]
  },
  {
   "cell_type": "markdown",
   "metadata": {
    "id": "bI1kJoSYj41N"
   },
   "source": [
    "$$\n",
    "d(a,b) = \\sqrt {\\sum ^n_{i=1} (a_i - b_i)^2}\n",
    "$$\n",
    "\n",
    "\n",
    "$a$ et $b$ sont deux points dans un plan euclidien de dimension $n$\n",
    "\n",
    "$a_i$ et $b_i$ sont deux vecteurs depuis l'origine jusqu'au point $a$, $b$."
   ]
  },
  {
   "cell_type": "code",
   "execution_count": 6,
   "metadata": {
    "id": "Gwc6xFnUh_u9"
   },
   "outputs": [],
   "source": [
    "class DBSCAN:\n",
    "\n",
    "  def __init__(self, epsilon:float, min_points:int)->None:\n",
    "    \"\"\"This function initialize the class with all the information we need to train a DBSCNA algorithm\"\"\"\n",
    "\n",
    "    self.epsilon = epsilon\n",
    "    self.min_points = min_points\n",
    "\n",
    "  @staticmethod\n",
    "  def euclidean_distance(a: np.ndarray, b: np.ndarray) -> np.ndarray:\n",
    "    ''' Compute the euclidean distance between two vectors '''\n",
    "    return np.sqrt(np.sum(np.power(a-b, 2), axis=1))\n"
   ]
  },
  {
   "cell_type": "code",
   "execution_count": 7,
   "metadata": {
    "colab": {
     "base_uri": "https://localhost:8080/"
    },
    "id": "X-Qx3bN9h_xl",
    "outputId": "35988dfd-0eb8-4f95-fd63-d9919236973d"
   },
   "outputs": [
    {
     "data": {
      "text/plain": [
       "(100,)"
      ]
     },
     "execution_count": 7,
     "metadata": {},
     "output_type": "execute_result"
    }
   ],
   "source": [
    "np.random.seed(123)\n",
    "a = np.random.random((100, 2))\n",
    "b = np.random.random((100, 2))\n",
    "\n",
    "DBSCAN.euclidean_distance(a, b).shape"
   ]
  },
  {
   "cell_type": "markdown",
   "metadata": {
    "id": "drxp-2yZkyQM"
   },
   "source": [
    "### Identifier les observations"
   ]
  },
  {
   "cell_type": "markdown",
   "metadata": {
    "id": "19ZcR5hgk1Yc"
   },
   "source": [
    "- core_point: Il a plus de $min\\_points$ observations dans son voisinage de $epsilon$.\n",
    "- border_point: Il a moins de $min\\_points$ observations dans son voisinage de $epsilon$.\n",
    "- noise_point: Il n'a aucune observations dans son voisinage de $epsilon$."
   ]
  },
  {
   "cell_type": "code",
   "execution_count": 8,
   "metadata": {
    "id": "KRKqj_ihh_0C"
   },
   "outputs": [],
   "source": [
    "class DBSCAN:\n",
    "\n",
    "  def __init__(self, epsilon:float, min_points:int)->None:\n",
    "    \"\"\"Cette fonction initialise la classe avec toutes les informations nécessaires pour entraîner un algorithme DBSCAN\"\"\"\n",
    "\n",
    "    self.epsilon = epsilon\n",
    "    self.min_points = min_points\n",
    "\n",
    "  @staticmethod\n",
    "  def euclidean_distance(a: np.ndarray, b: np.ndarray) -> np.ndarray:\n",
    "    '''Calcule la distance euclidienne entre deux vecteurs'''\n",
    "    return np.sqrt(np.sum(np.power(a-b, 2), axis=1))\n",
    "\n",
    "  def point_identification(self, dist:np.array, index:int)->tuple:\n",
    "    '''Calcule l'identification d'un point en comptant le nombre de voisins proches'''\n",
    "\n",
    "    bool_neighbors = list(map(lambda x : x<= self.epsilon, dist))\n",
    "\n",
    "    neighbors_index = np.nonzero(bool_neighbors)\n",
    "\n",
    "    number_neighbors = np.sum(bool_neighbors)\n",
    "    #print(number_neighbors)\n",
    "\n",
    "    if number_neighbors == 1:\n",
    "      # 0 pour un point de bruit\n",
    "      return (neighbors_index, 0)\n",
    "    elif number_neighbors > self.min_points:\n",
    "      # 1 pour un point central\n",
    "      return (neighbors_index, 1)\n",
    "    else :\n",
    "      # 2 pour un point de bordure\n",
    "      return (neighbors_index, 2)"
   ]
  },
  {
   "cell_type": "code",
   "execution_count": 9,
   "metadata": {
    "id": "orh2_ByZsKwn"
   },
   "outputs": [],
   "source": [
    "np.random.seed(123)\n",
    "\n",
    "a = np.random.random((100, 2))\n",
    "b = [0.5, 0.5]"
   ]
  },
  {
   "cell_type": "markdown",
   "metadata": {
    "id": "oT5-KJILsLmo"
   },
   "source": [
    "Test du noise_point"
   ]
  },
  {
   "cell_type": "code",
   "execution_count": 10,
   "metadata": {
    "id": "KWj--PB0plMN"
   },
   "outputs": [],
   "source": [
    "epsilon = 0.01\n",
    "dbs = DBSCAN(epsilon, 5)"
   ]
  },
  {
   "cell_type": "code",
   "execution_count": 11,
   "metadata": {
    "id": "p0txPrpZosl5"
   },
   "outputs": [],
   "source": [
    "distance = DBSCAN.euclidean_distance(a, b)"
   ]
  },
  {
   "cell_type": "code",
   "execution_count": 12,
   "metadata": {
    "colab": {
     "base_uri": "https://localhost:8080/"
    },
    "id": "YPtmjM5uptEy",
    "outputId": "85f8cac2-163e-419e-8c9e-1a60faf05210"
   },
   "outputs": [
    {
     "data": {
      "text/plain": [
       "((array([], dtype=int64),), 2)"
      ]
     },
     "execution_count": 12,
     "metadata": {},
     "output_type": "execute_result"
    }
   ],
   "source": [
    "dbs.point_identification(distance, a)"
   ]
  },
  {
   "cell_type": "code",
   "execution_count": 13,
   "metadata": {
    "colab": {
     "base_uri": "https://localhost:8080/",
     "height": 430
    },
    "id": "A-3Wg4x8h_2m",
    "outputId": "265d56ba-6de0-41c5-a786-98b2e91da244"
   },
   "outputs": [
    {
     "data": {
      "image/png": "[encoded data removed]",
      "text/plain": [
       "<Figure size 432x288 with 1 Axes>"
      ]
     },
     "metadata": {
      "needs_background": "light"
     },
     "output_type": "display_data"
    }
   ],
   "source": [
    "figure, axes = plt.subplots()\n",
    "plt.scatter(a[:, 0], a[:, 1])\n",
    "plt.scatter(b[0], b[1])\n",
    "neighbors_zone = plt.Circle(xy=( 0.5 , 0.5 ), radius=epsilon, fill=False)\n",
    "axes.set_aspect(1)\n",
    "axes.add_artist(neighbors_zone)\n",
    "plt.show()"
   ]
  },
  {
   "cell_type": "markdown",
   "metadata": {
    "id": "Mkil8sHCsZZJ"
   },
   "source": [
    "Test d'un border_point"
   ]
  },
  {
   "cell_type": "code",
   "execution_count": 14,
   "metadata": {
    "id": "dSvqs7ZysZZJ"
   },
   "outputs": [],
   "source": [
    "epsilon = 0.05\n",
    "dbs = DBSCAN(epsilon, 5)"
   ]
  },
  {
   "cell_type": "code",
   "execution_count": 15,
   "metadata": {
    "id": "cYGKxeDvsZZJ"
   },
   "outputs": [],
   "source": [
    "distance = DBSCAN.euclidean_distance(a, b)"
   ]
  },
  {
   "cell_type": "code",
   "execution_count": 16,
   "metadata": {
    "colab": {
     "base_uri": "https://localhost:8080/"
    },
    "id": "fJaBPqUSsZZJ",
    "outputId": "b91da523-8aa9-4221-9f36-4b7128a5d23e"
   },
   "outputs": [
    {
     "data": {
      "text/plain": [
       "0"
      ]
     },
     "execution_count": 16,
     "metadata": {},
     "output_type": "execute_result"
    }
   ],
   "source": [
    "neighbors_index, identification = dbs.point_identification(distance, a)\n",
    "identification"
   ]
  },
  {
   "cell_type": "code",
   "execution_count": 17,
   "metadata": {
    "colab": {
     "base_uri": "https://localhost:8080/",
     "height": 430
    },
    "id": "uPvKifvwsZZK",
    "outputId": "8ed0f94f-b961-41f4-c583-50175177c9c2"
   },
   "outputs": [
    {
     "data": {
      "image/png": "[encoded data removed]",
      "text/plain": [
       "<Figure size 432x288 with 1 Axes>"
      ]
     },
     "metadata": {
      "needs_background": "light"
     },
     "output_type": "display_data"
    }
   ],
   "source": [
    "figure, axes = plt.subplots()\n",
    "plt.scatter(a[:, 0], a[:, 1])\n",
    "plt.scatter(a[neighbors_index, 0], a[neighbors_index, 1])\n",
    "plt.scatter(b[0], b[1])\n",
    "neighbors_zone = plt.Circle(xy=( 0.5 , 0.5 ), radius=epsilon, fill=False)\n",
    "axes.set_aspect(1)\n",
    "axes.add_artist(neighbors_zone)\n",
    "plt.show()"
   ]
  },
  {
   "cell_type": "markdown",
   "metadata": {
    "id": "1zqTvQEOs9Sd"
   },
   "source": [
    "Test d'un core point"
   ]
  },
  {
   "cell_type": "code",
   "execution_count": 18,
   "metadata": {
    "id": "UeDv6Rpcs9Sj"
   },
   "outputs": [],
   "source": [
    "epsilon = 0.15\n",
    "dbs = DBSCAN(epsilon, 5)"
   ]
  },
  {
   "cell_type": "code",
   "execution_count": 19,
   "metadata": {
    "id": "h7Hy6mIcs9Sj"
   },
   "outputs": [],
   "source": [
    "distance = DBSCAN.euclidean_distance(a, b)"
   ]
  },
  {
   "cell_type": "code",
   "execution_count": 20,
   "metadata": {
    "colab": {
     "base_uri": "https://localhost:8080/"
    },
    "id": "lrxaRQ6Ss9Sj",
    "outputId": "46e9980b-c938-463d-beb5-143c4d46c3b8"
   },
   "outputs": [
    {
     "data": {
      "text/plain": [
       "1"
      ]
     },
     "execution_count": 20,
     "metadata": {},
     "output_type": "execute_result"
    }
   ],
   "source": [
    "neighbors_index, identification = dbs.point_identification(distance, a)\n",
    "identification"
   ]
  },
  {
   "cell_type": "code",
   "execution_count": 21,
   "metadata": {
    "colab": {
     "base_uri": "https://localhost:8080/",
     "height": 430
    },
    "id": "Zj7yvPjKs9Sj",
    "outputId": "4c15e4a8-8f1c-4e0c-9a64-a57a765bbe46"
   },
   "outputs": [
    {
     "data": {
      "image/png": "[encoded data removed]",
      "text/plain": [
       "<Figure size 432x288 with 1 Axes>"
      ]
     },
     "metadata": {
      "needs_background": "light"
     },
     "output_type": "display_data"
    }
   ],
   "source": [
    "figure, axes = plt.subplots()\n",
    "plt.scatter(a[:, 0], a[:, 1])\n",
    "plt.scatter(b[0], b[1])\n",
    "plt.scatter(a[neighbors_index, 0], a[neighbors_index, 1])\n",
    "neighbors_zone = plt.Circle(xy=( 0.5 , 0.5 ), radius=epsilon, fill=False)\n",
    "axes.set_aspect(1)\n",
    "axes.add_artist(neighbors_zone)\n",
    "plt.show()"
   ]
  },
  {
   "cell_type": "markdown",
   "metadata": {
    "id": "KIAmfvm-mGlS"
   },
   "source": [
    "### Déterminer le nombre de voisins"
   ]
  },
  {
   "cell_type": "code",
   "execution_count": 22,
   "metadata": {
    "id": "E7k5674_mKww"
   },
   "outputs": [],
   "source": [
    "class DBSCAN:\n",
    "\n",
    "  def __init__(self, epsilon:float, min_points:int)->None:\n",
    "    \"\"\"Cette fonction initialise la classe avec toutes les informations nécessaires pour entraîner un algorithme DBSCAN\"\"\"\n",
    "\n",
    "    self.epsilon = epsilon\n",
    "    self.min_points = min_points\n",
    "\n",
    "  @staticmethod\n",
    "  def euclidean_distance(a: np.ndarray, b: np.ndarray) -> np.ndarray:\n",
    "    '''Calcule la distance euclidienne entre deux vecteurs'''\n",
    "    return np.sqrt(np.sum(np.power(a-b, 2), axis=1))\n",
    "\n",
    "  def point_identification(self, dist:np.array, index:int)->tuple:\n",
    "    '''Calcule l'identification d'un point en comptant le nombre de voisins proches'''\n",
    "\n",
    "    bool_neighbors = list(map(lambda x : x <= self.epsilon, dist))\n",
    "\n",
    "    neighbors_index = np.nonzero(bool_neighbors)\n",
    "\n",
    "    number_neighbors = np.sum(bool_neighbors)\n",
    "    #print(number_neighbors)\n",
    "\n",
    "    if number_neighbors == 1:\n",
    "      # 0 pour un point de bruit\n",
    "      return (neighbors_index, 0)\n",
    "    elif number_neighbors > self.min_points:\n",
    "      # 1 pour un point central\n",
    "      return (neighbors_index, 1)\n",
    "    else :\n",
    "      # 2 pour un point de bordure\n",
    "      return (neighbors_index, 2)\n",
    "\n",
    "  def number_neighbors(self, dataframe:np.ndarray, index:int)-> np.ndarray:\n",
    "    \"\"\"Calcule le nombre de voisins pour un index donné\"\"\"\n",
    "    point = dataframe[index]\n",
    "\n",
    "    # Calcule la distance entre x_i et dataframe[index]\n",
    "    dist = DBSCAN.euclidean_distance(point, dataframe)\n",
    "\n",
    "    # Identifie les voisins et leur attribut (bruit, bordure, ou central)\n",
    "    neighbors_index, point_attribute =  self.point_identification(dist, index)\n",
    "\n",
    "    # Supprime l'index du point lui-même de la liste des voisins\n",
    "    neighbors_index_minus_point = np.setdiff1d(neighbors_index, index)\n",
    "\n",
    "    return neighbors_index_minus_point, point_attribute"
   ]
  },
  {
   "cell_type": "code",
   "execution_count": 23,
   "metadata": {
    "id": "DmmxfM8DHVsd"
   },
   "outputs": [],
   "source": [
    "np.random.seed(123)\n",
    "\n",
    "a = np.random.random((100, 2))"
   ]
  },
  {
   "cell_type": "markdown",
   "metadata": {
    "id": "5eYN8BtlIOVu"
   },
   "source": [
    "Test noise_point"
   ]
  },
  {
   "cell_type": "code",
   "execution_count": 24,
   "metadata": {
    "colab": {
     "base_uri": "https://localhost:8080/"
    },
    "id": "NnKuwHz9ITho",
    "outputId": "263ffd1c-1b42-4e71-9ca3-a590e3ccb6f4"
   },
   "outputs": [
    {
     "data": {
      "text/plain": [
       "0"
      ]
     },
     "execution_count": 24,
     "metadata": {},
     "output_type": "execute_result"
    }
   ],
   "source": [
    "epsilon = 0.01\n",
    "dbs = DBSCAN(epsilon, 5)\n",
    "neighbors_index, information = dbs.number_neighbors(a, 0)\n",
    "information"
   ]
  },
  {
   "cell_type": "code",
   "execution_count": 25,
   "metadata": {
    "colab": {
     "base_uri": "https://localhost:8080/",
     "height": 430
    },
    "id": "dZUuM_iFH8UV",
    "outputId": "62177e09-816f-400b-cbac-9cbdd4681d71"
   },
   "outputs": [
    {
     "data": {
      "image/png": "[encoded data removed]",
      "text/plain": [
       "<Figure size 432x288 with 1 Axes>"
      ]
     },
     "metadata": {
      "needs_background": "light"
     },
     "output_type": "display_data"
    }
   ],
   "source": [
    "figure, axes = plt.subplots()\n",
    "plt.scatter(a[:, 0], a[:, 1])\n",
    "plt.scatter(a[0, 0], a[0, 1])\n",
    "plt.scatter(a[np.squeeze(neighbors_index), 0], a[np.squeeze(neighbors_index), 1])\n",
    "neighbors_zone = plt.Circle(xy=(a[0, 0], a[0, 1]), radius=epsilon, fill=False)\n",
    "axes.set_aspect(1)\n",
    "axes.add_artist(neighbors_zone)\n",
    "plt.show()"
   ]
  },
  {
   "cell_type": "markdown",
   "metadata": {
    "id": "MLSnBj7NIboe"
   },
   "source": [
    "Test border_point"
   ]
  },
  {
   "cell_type": "code",
   "execution_count": 26,
   "metadata": {
    "colab": {
     "base_uri": "https://localhost:8080/"
    },
    "id": "O7pyfP_xIbop",
    "outputId": "6cba5d38-086f-4c55-dba5-5573c28ae13a"
   },
   "outputs": [
    {
     "data": {
      "text/plain": [
       "2"
      ]
     },
     "execution_count": 26,
     "metadata": {},
     "output_type": "execute_result"
    }
   ],
   "source": [
    "epsilon = 0.1\n",
    "dbs = DBSCAN(epsilon, 5)\n",
    "neighbors_index, information = dbs.number_neighbors(a, 0)\n",
    "information"
   ]
  },
  {
   "cell_type": "code",
   "execution_count": 27,
   "metadata": {
    "colab": {
     "base_uri": "https://localhost:8080/",
     "height": 430
    },
    "id": "axNkqTWIIboq",
    "outputId": "46664700-5f80-42fb-ab8d-16a665ccac38"
   },
   "outputs": [
    {
     "data": {
      "image/png": "[encoded data removed]",
      "text/plain": [
       "<Figure size 432x288 with 1 Axes>"
      ]
     },
     "metadata": {
      "needs_background": "light"
     },
     "output_type": "display_data"
    }
   ],
   "source": [
    "figure, axes = plt.subplots()\n",
    "plt.scatter(a[:, 0], a[:, 1])\n",
    "plt.scatter(a[0, 0], a[0, 1])\n",
    "plt.scatter(a[np.squeeze(neighbors_index), 0], a[np.squeeze(neighbors_index), 1])\n",
    "neighbors_zone = plt.Circle(xy=(a[0, 0], a[0, 1]), radius=epsilon, fill=False)\n",
    "axes.set_aspect(1)\n",
    "axes.add_artist(neighbors_zone)\n",
    "plt.show()"
   ]
  },
  {
   "cell_type": "markdown",
   "metadata": {
    "id": "qI28DkWqIb3s"
   },
   "source": [
    "Test core_point"
   ]
  },
  {
   "cell_type": "code",
   "execution_count": 28,
   "metadata": {
    "colab": {
     "base_uri": "https://localhost:8080/"
    },
    "id": "gqnpkQw7Ib3t",
    "outputId": "6a2210ce-b173-4e01-ee9c-e3d4eb5bf2ad"
   },
   "outputs": [
    {
     "data": {
      "text/plain": [
       "1"
      ]
     },
     "execution_count": 28,
     "metadata": {},
     "output_type": "execute_result"
    }
   ],
   "source": [
    "epsilon = 0.2\n",
    "dbs = DBSCAN(epsilon, 5)\n",
    "neighbors_index, information = dbs.number_neighbors(a, 0)\n",
    "information"
   ]
  },
  {
   "cell_type": "code",
   "execution_count": 29,
   "metadata": {
    "colab": {
     "base_uri": "https://localhost:8080/",
     "height": 430
    },
    "id": "DyCFiW9PIb3t",
    "outputId": "1a26948b-081a-44b6-835b-2c114653444c"
   },
   "outputs": [
    {
     "data": {
      "image/png": "[encoded data removed]",
      "text/plain": [
       "<Figure size 432x288 with 1 Axes>"
      ]
     },
     "metadata": {
      "needs_background": "light"
     },
     "output_type": "display_data"
    }
   ],
   "source": [
    "figure, axes = plt.subplots()\n",
    "plt.scatter(a[:, 0], a[:, 1])\n",
    "plt.scatter(a[0, 0], a[0, 1])\n",
    "plt.scatter(a[neighbors_index, 0], a[neighbors_index, 1])\n",
    "neighbors_zone = plt.Circle(xy=(a[0, 0], a[0, 1]), radius=epsilon, fill=False)\n",
    "axes.set_aspect(1)\n",
    "axes.add_artist(neighbors_zone)\n",
    "plt.show()"
   ]
  },
  {
   "cell_type": "markdown",
   "metadata": {
    "id": "uMn3CqmYRovj"
   },
   "source": [
    "### Entraînement du modèle"
   ]
  },
  {
   "cell_type": "code",
   "execution_count": 30,
   "metadata": {
    "id": "sKj4dJMbHS2P"
   },
   "outputs": [],
   "source": [
    "class DBSCAN:\n",
    "\n",
    "  def __init__(self, epsilon:float, min_points:int)->None:\n",
    "    \"\"\"Cette fonction initialise la classe avec toutes les informations nécessaires pour entraîner un algorithme DBSCAN\"\"\"\n",
    "\n",
    "    self.epsilon = epsilon\n",
    "    self.min_points = min_points\n",
    "\n",
    "  @staticmethod\n",
    "  def euclidean_distance(a: np.ndarray, b: np.ndarray) -> np.ndarray:\n",
    "    '''Calcule la distance euclidienne entre deux vecteurs'''\n",
    "    return np.sqrt(np.sum(np.power(a-b, 2), axis=1))\n",
    "\n",
    "  def point_identification(self, dist:np.array, index:int)->tuple:\n",
    "    '''Calcule l'identification d'un point en comptant le nombre de voisins proches'''\n",
    "    bool_neighbors = list(map(lambda x : x <= self.epsilon, dist))\n",
    "    neighbors_index = np.nonzero(bool_neighbors)\n",
    "    number_neighbors = np.sum(bool_neighbors)\n",
    "    #print(number_neighbors)\n",
    "    if number_neighbors == 1:\n",
    "      # 0 pour un point de bruit\n",
    "      return (neighbors_index, 0)\n",
    "    elif number_neighbors > self.min_points:\n",
    "      # 1 pour un point central\n",
    "      return (neighbors_index, 1)\n",
    "    else :\n",
    "      # 2 pour un point de bordure\n",
    "      return (neighbors_index, 2)\n",
    "\n",
    "  def number_neighbors(self, dataframe:np.ndarray, index:int)-> np.ndarray:\n",
    "    \"\"\"Calcule le nombre de voisins pour un index donné\"\"\"\n",
    "    point = dataframe[index]\n",
    "    # Calcule la distance entre x_i et dataframe[index]\n",
    "    dist = DBSCAN.euclidean_distance(point, dataframe)\n",
    "\n",
    "    # Identifie les voisins et leur attribut (bruit, bordure, ou central)\n",
    "    neighbors_index, point_attribute =  self.point_identification(dist, index)\n",
    "\n",
    "    # Supprime l'index du point lui-même de la liste des voisins\n",
    "    neighbors_index_minus_point = np.setdiff1d(neighbors_index, index)\n",
    "\n",
    "    return neighbors_index_minus_point, point_attribute\n",
    "\n",
    "  def fit(self, dataframe:np.ndarray, visualization:bool=False):\n",
    "    \"\"\"Exécute l'algorithme DBSCAN pour effectuer le clustering sur les données\"\"\"\n",
    "    # Initialisation du numéro de cluster\n",
    "    c = 1\n",
    "    noise = False\n",
    "\n",
    "    # Initialisation des piles pour maintenir l'état\n",
    "    current_stack = np.array([])  # Pile courante\n",
    "    unvisited = np.array(range(dataframe.shape[0]))  # Indices des points non visités\n",
    "    self.clusters = np.zeros(dataframe.shape[0])  # Tableau des clusters assignés\n",
    "\n",
    "    # Boucle jusqu'à ce que tous les points aient été visités\n",
    "    while (len(unvisited) != 0):\n",
    "\n",
    "        # Choisir un point non visité au hasard\n",
    "        current_stack = random.choice(unvisited)\n",
    "\n",
    "        # Exécutez jusqu'à ce qu'un cluster soit complet\n",
    "        while current_stack.size != 0:\n",
    "\n",
    "          if current_stack.size > 1:\n",
    "            index = current_stack[0]\n",
    "          else :\n",
    "            index = current_stack\n",
    "\n",
    "          current_stack = np.setdiff1d(current_stack, index)\n",
    "\n",
    "          neighbors_index, attribute = self.number_neighbors(dataframe, index)\n",
    "\n",
    "          # Supprime le point de la liste des non visités\n",
    "          unvisited = np.setdiff1d(unvisited, index)\n",
    "\n",
    "          # Ne regarder que les points non visités\n",
    "          neighbors_index = np.intersect1d(neighbors_index, unvisited)\n",
    "\n",
    "          # Si le point courant est un point central\n",
    "          if attribute == 1:\n",
    "\n",
    "              # Assigner à un cluster\n",
    "              self.clusters[index] = c\n",
    "\n",
    "              # Ajouter les voisins à la pile\n",
    "              current_stack = np.append(current_stack, neighbors_index)\n",
    "\n",
    "          # Si le point courant est un point de bordure\n",
    "          elif attribute == 2:\n",
    "              # Assigner à un cluster\n",
    "              self.clusters[index] = c\n",
    "\n",
    "          # Si le point courant est du bruit\n",
    "          elif attribute == 0:\n",
    "              # Assigner à un cluster\n",
    "              self.clusters[index] = c\n",
    "              noise = True\n",
    "\n",
    "          if visualization:\n",
    "            # Affichage de la visualisation du clustering\n",
    "            figure, axes = plt.subplots()\n",
    "            plt.scatter(dataframe[:, 0], dataframe[:, 1], c=self.clusters)\n",
    "            plt.scatter(dataframe[index, 0], dataframe[index, 1])\n",
    "            neighbors_zone = plt.Circle(xy=(dataframe[index, 0], dataframe[index, 1]), radius=self.epsilon, fill=False)\n",
    "            axes.set_aspect(1)\n",
    "            axes.add_artist(neighbors_zone)\n",
    "            plt.show()\n",
    "\n",
    "        if not(noise):\n",
    "          c += 1  # Passer au cluster suivant\n",
    "        else:\n",
    "          noise = False"
   ]
  },
  {
   "cell_type": "code",
   "execution_count": 41,
   "metadata": {
    "id": "yurQEbOxS9b1"
   },
   "outputs": [],
   "source": [
    "epsilon = 3.5\n",
    "dbs = DBSCAN(epsilon, 3)\n",
    "dbs.fit(x_train)"
   ]
  },
  {
   "cell_type": "code",
   "execution_count": 42,
   "metadata": {
    "colab": {
     "base_uri": "https://localhost:8080/",
     "height": 430
    },
    "id": "-8ciFGj7kogJ",
    "outputId": "ebb219ec-2cea-4acf-d4f4-68853239812a"
   },
   "outputs": [
    {
     "data": {
      "image/png": "[encoded data removed]",
      "text/plain": [
       "<Figure size 432x288 with 1 Axes>"
      ]
     },
     "metadata": {
      "needs_background": "light"
     },
     "output_type": "display_data"
    }
   ],
   "source": [
    "plt.scatter(x_train[:, 0], x_train[:, 1], c=dbs.clusters)\n",
    "plt.show()"
   ]
  }
 ],
 "metadata": {
  "colab": {
   "provenance": []
  },
  "kernelspec": {
   "display_name": "Python 3 (ipykernel)",
   "language": "python",
   "name": "python3"
  },
  "language_info": {
   "codemirror_mode": {
    "name": "ipython",
    "version": 3
   },
   "file_extension": ".py",
   "mimetype": "text/x-python",
   "name": "python",
   "nbconvert_exporter": "python",
   "pygments_lexer": "ipython3",
   "version": "3.9.7"
  }
 },
 "nbformat": 4,
 "nbformat_minor": 1
}
